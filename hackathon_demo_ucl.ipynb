{
 "cells": [
  {
   "attachments": {},
   "cell_type": "markdown",
   "id": "26a39251-cf46-4917-b8b4-89ae0ad5a060",
   "metadata": {},
   "source": [
    "# Get Voices"
   ]
  },
  {
   "cell_type": "code",
   "execution_count": null,
   "id": "dc02797a",
   "metadata": {},
   "outputs": [],
   "source": [
    "from pyneuphonic import Neuphonic, TTSConfig, Agent\n",
    "from pyneuphonic.player import AudioPlayer\n",
    "\n",
    "api_key = \"172c4d78863aec707d4496f0d5258bff3389e92b2614c8175e7f18575eebc4a5.f13b6de5-100a-4252-b2fd-7a4aa39c852f\" # GET THIS FROM beta.neuphonic.com!!!!!!!!!"
   ]
  },
  {
   "cell_type": "code",
   "execution_count": null,
   "id": "9a37179c-23a7-4741-871f-0665cc4c51d7",
   "metadata": {},
   "outputs": [],
   "source": [
    "client = Neuphonic(api_key=api_key)\n",
    "voices = client.voices.get()  # get's all available voices\n",
    "\n",
    "for voice in voices:\n",
    "    print(voice)"
   ]
  },
  {
   "attachments": {},
   "cell_type": "markdown",
   "id": "d7873904-d588-418f-a742-8d4f7b9c26a7",
   "metadata": {},
   "source": [
    "# Text To Speech"
   ]
  },
  {
   "cell_type": "code",
   "execution_count": 10,
   "id": "69b7d226-bd6a-4050-97a8-929068eb4c23",
   "metadata": {},
   "outputs": [],
   "source": [
    "client = Neuphonic(api_key=api_key)\n",
    "sse = client.tts.SSEClient()\n",
    "tts_config = TTSConfig(speed=1.05,  voice='8e9c4bc8-3979-48ab-8626-df53befc2090', model=\"neu_hq\")\n",
    "\n",
    "with AudioPlayer() as player:\n",
    "    response = sse.send(\"\"\"Neuphonic generates high quality and low latency text to speech. Experience the speed and clarity of our dynamically powered voice synthesis by entering your text!\"\"\", tts_config=tts_config)\n",
    "    player.play(response)\n",
    "    # player.save_audio('output.wav') "
   ]
  },
  {
   "attachments": {},
   "cell_type": "markdown",
   "id": "c50a627e-ade2-4809-938b-cc022fef31f1",
   "metadata": {},
   "source": [
    "# Altering Speech Parameters"
   ]
  },
  {
   "cell_type": "code",
   "execution_count": 4,
   "id": "6d5a3d8e-28a7-4f77-81be-a09591e0d896",
   "metadata": {},
   "outputs": [],
   "source": [
    "client = Neuphonic(api_key=api_key)\n",
    "sse = client.tts.SSEClient()\n",
    "\n",
    "# Below we alter the speed of the model and the voice\n",
    "tts_config = TTSConfig(\n",
    "    speed=1.3,  \n",
    "    voice='b19687fd-c5c9-4bda-9d52-756c3b10c88e', \n",
    "    model=\"neu_hq\"\n",
    ")\n",
    "\n",
    "with AudioPlayer() as player:\n",
    "    response = sse.send(\"\"\"Neuphonic generates high quality and low latency text to speech. Experience the speed and clarity of our dynamically powered voice synthesis by entering your text!\"\"\", tts_config=tts_config)\n",
    "    player.play(response)\n",
    "    # player.save_audio('output.wav') "
   ]
  },
  {
   "attachments": {},
   "cell_type": "markdown",
   "id": "7c417d51-5c88-4ed0-8905-dc416a5171db",
   "metadata": {},
   "source": [
    "# Speech to Speech"
   ]
  },
  {
   "cell_type": "markdown",
   "id": "bbbb16bc",
   "metadata": {},
   "source": [
    "Run the example below to create an agent that will greet you and initiate a voice conversation. \n",
    "Speak back to it to initiate a response."
   ]
  },
  {
   "cell_type": "code",
   "execution_count": null,
   "id": "172908f2-d200-455d-96fc-9cd5d84677c5",
   "metadata": {},
   "outputs": [],
   "source": [
    "client = Neuphonic(api_key=api_key)\n",
    "\n",
    "agent_id = client.agents.create(\n",
    "    name='Agent 1',\n",
    "    prompt='You are a helpful agent. Answer in 10 words or less.',\n",
    "    greeting='Hi, how can I help you today?'\n",
    ")['data']['id']\n",
    "\n",
    "agent = Agent(client, agent_id=agent_id, tts_model='neu_hq')\n",
    "\n",
    "await agent.start()"
   ]
  },
  {
   "cell_type": "markdown",
   "id": "4d11bf2a",
   "metadata": {},
   "source": [
    "Note: To stop the above cell, you will need to either restart the Jupyter server or terminate the Jupyter server process."
   ]
  }
 ],
 "metadata": {
  "kernelspec": {
   "display_name": "test-yKvg22Wi-py3.12",
   "language": "python",
   "name": "python3"
  },
  "language_info": {
   "codemirror_mode": {
    "name": "ipython",
    "version": 3
   },
   "file_extension": ".py",
   "mimetype": "text/x-python",
   "name": "python",
   "nbconvert_exporter": "python",
   "pygments_lexer": "ipython3",
   "version": "3.12.4"
  }
 },
 "nbformat": 4,
 "nbformat_minor": 5
}
